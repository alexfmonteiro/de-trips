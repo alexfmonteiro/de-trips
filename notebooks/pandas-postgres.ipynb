{
 "cells": [
  {
   "cell_type": "code",
   "execution_count": null,
   "id": "4ba8c6a5",
   "metadata": {},
   "outputs": [],
   "source": [
    "from sqlalchemy import create_engine\n",
    "engine = create_engine('postgresql://postgres:postgres@db:5432/postgres')"
   ]
  },
  {
   "cell_type": "code",
   "execution_count": null,
   "id": "3ec1411b",
   "metadata": {},
   "outputs": [],
   "source": [
    "import pandas as pd"
   ]
  },
  {
   "cell_type": "code",
   "execution_count": null,
   "id": "2b3bc0d0",
   "metadata": {},
   "outputs": [],
   "source": [
    "df = pd.read_csv('../data/input/trips.csv')"
   ]
  },
  {
   "cell_type": "code",
   "execution_count": null,
   "id": "ab572f83",
   "metadata": {},
   "outputs": [],
   "source": [
    "df.to_sql('trips', engine)"
   ]
  },
  {
   "cell_type": "code",
   "execution_count": null,
   "id": "71bc555f-5cda-40cf-ac92-e0900ce27e3e",
   "metadata": {},
   "outputs": [],
   "source": [
    "df_pg = pd.read_sql_query('Select * from trips', con=engine)\n",
    "\n",
    "df_pg.head()"
   ]
  },
  {
   "cell_type": "code",
   "execution_count": null,
   "id": "f8f0aa31-75f2-4766-8826-36b392ee4884",
   "metadata": {},
   "outputs": [],
   "source": []
  }
 ],
 "metadata": {
  "kernelspec": {
   "display_name": "Python 3 (ipykernel)",
   "language": "python",
   "name": "python3"
  },
  "language_info": {
   "codemirror_mode": {
    "name": "ipython",
    "version": 3
   },
   "file_extension": ".py",
   "mimetype": "text/x-python",
   "name": "python",
   "nbconvert_exporter": "python",
   "pygments_lexer": "ipython3",
   "version": "3.10.4"
  }
 },
 "nbformat": 4,
 "nbformat_minor": 5
}
