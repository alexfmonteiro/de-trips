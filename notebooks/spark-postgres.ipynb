{
 "cells": [
  {
   "cell_type": "code",
   "execution_count": 1,
   "id": "fefada54-f371-4eae-a8a8-b58d6141b338",
   "metadata": {},
   "outputs": [],
   "source": [
    "from pyspark.sql import SparkSession\n",
    "\n",
    "spark = (SparkSession.builder.appName(\"test\").config(\"spark.jars.packages\", \"org.postgresql:postgresql:42.2.14\").getOrCreate())"
   ]
  },
  {
   "cell_type": "code",
   "execution_count": 2,
   "id": "d82811e5-51fb-4ee4-a4f3-22f99204de53",
   "metadata": {},
   "outputs": [],
   "source": [
    "df = spark.read \\\n",
    "    .format(\"jdbc\") \\\n",
    "    .option(\"url\", \"jdbc:postgresql://db:5432/postgres\") \\\n",
    "    .option(\"dbtable\", \"trips\") \\\n",
    "    .option(\"user\", \"postgres\") \\\n",
    "    .option(\"password\", \"postgres\") \\\n",
    "    .option(\"driver\", \"org.postgresql.Driver\") \\\n",
    "    .load()"
   ]
  },
  {
   "cell_type": "code",
   "execution_count": 3,
   "id": "2000f77a-cc64-43e6-a9d9-5895d12aeb2e",
   "metadata": {},
   "outputs": [
    {
     "name": "stdout",
     "output_type": "stream",
     "text": [
      "+-----+-------+--------------------+--------------------+-------------------+-------------------+\n",
      "|index| region|        origin_coord|   destination_coord|           datetime|         datasource|\n",
      "+-----+-------+--------------------+--------------------+-------------------+-------------------+\n",
      "|    0| Prague|POINT (14.4973794...|POINT (14.4310948...|2018-05-28 09:03:40|          funny_car|\n",
      "|    1|  Turin|POINT (7.67283791...|POINT (7.72036863...|2018-05-21 02:54:04|           baba_car|\n",
      "|    2| Prague|POINT (14.3242734...|POINT (14.4776789...|2018-05-13 08:52:25|       cheap_mobile|\n",
      "|    3|  Turin|POINT (7.54150918...|POINT (7.74528653...|2018-05-06 09:49:16|bad_diesel_vehicles|\n",
      "|    4|  Turin|POINT (7.61407811...|POINT (7.52749714...|2018-05-23 12:45:54|      pt_search_app|\n",
      "|    5|Hamburg|POINT (10.0729902...|POINT (9.78919760...|2018-05-15 09:13:36|bad_diesel_vehicles|\n",
      "|    6|Hamburg|POINT (9.91027820...|POINT (10.0255791...|2018-05-13 13:09:19|          funny_car|\n",
      "|    7|  Turin|POINT (7.56078508...|POINT (7.58356869...|2018-05-06 00:00:44|       cheap_mobile|\n",
      "|    8|  Turin|POINT (7.70241807...|POINT (7.62322934...|2018-05-14 02:07:30|       cheap_mobile|\n",
      "|    9|Hamburg|POINT (10.0526009...|POINT (10.0588964...|2018-05-04 00:46:12|       cheap_mobile|\n",
      "|   10|Hamburg|POINT (9.96114465...|POINT (10.0850358...|2018-05-06 06:34:22|       cheap_mobile|\n",
      "|   11|Hamburg|POINT (9.85528508...|POINT (10.0332737...|2018-05-31 10:55:12|bad_diesel_vehicles|\n",
      "|   12|  Turin|POINT (7.63191123...|POINT (7.63149878...|2018-05-31 06:20:59|      pt_search_app|\n",
      "|   13| Prague|POINT (14.3439468...|POINT (14.4504695...|2018-05-20 02:31:22|       cheap_mobile|\n",
      "|   14|  Turin|POINT (7.55729532...|POINT (7.63448864...|2018-05-25 15:16:35|      pt_search_app|\n",
      "|   15| Prague|POINT (14.4929067...|POINT (14.4873572...|2018-05-01 11:50:58|       cheap_mobile|\n",
      "|   16|  Turin|POINT (7.55886470...|POINT (7.77032847...|2018-05-01 17:42:05|      pt_search_app|\n",
      "|   17| Prague|POINT (14.4198663...|POINT (14.4101486...|2018-05-06 12:56:14|bad_diesel_vehicles|\n",
      "|   18|  Turin|POINT (7.70322087...|POINT (7.71322988...|2018-05-29 15:58:39|       cheap_mobile|\n",
      "|   19|Hamburg|POINT (9.91574032...|POINT (9.83613381...|2018-05-10 17:51:38|       cheap_mobile|\n",
      "+-----+-------+--------------------+--------------------+-------------------+-------------------+\n",
      "only showing top 20 rows\n",
      "\n"
     ]
    }
   ],
   "source": [
    "df.show()"
   ]
  },
  {
   "cell_type": "code",
   "execution_count": null,
   "id": "5355b8cf-7bfb-41a9-9d5c-86d9fdbf8976",
   "metadata": {},
   "outputs": [],
   "source": []
  }
 ],
 "metadata": {
  "kernelspec": {
   "display_name": "Python 3 (ipykernel)",
   "language": "python",
   "name": "python3"
  },
  "language_info": {
   "codemirror_mode": {
    "name": "ipython",
    "version": 3
   },
   "file_extension": ".py",
   "mimetype": "text/x-python",
   "name": "python",
   "nbconvert_exporter": "python",
   "pygments_lexer": "ipython3",
   "version": "3.10.4"
  }
 },
 "nbformat": 4,
 "nbformat_minor": 5
}
