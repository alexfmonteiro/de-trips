{
 "cells": [
  {
   "cell_type": "code",
   "execution_count": 3,
   "id": "fa60c3a8-dc63-4a5b-b36b-efd13a778425",
   "metadata": {},
   "outputs": [],
   "source": [
    "from sqlalchemy import create_engine\n",
    "import pandas as pd\n",
    "import geopandas as gpd\n",
    "\n",
    "engine = create_engine('postgresql://postgres:postgres@db:5432/postgres')\n",
    "conn = engine.connect()"
   ]
  },
  {
   "cell_type": "code",
   "execution_count": 7,
   "id": "34417224-131e-4a74-a289-b99f1d23ddb0",
   "metadata": {},
   "outputs": [],
   "source": [
    "def read_file(script_path):\n",
    "    \"\"\"\n",
    "    helper function to read sql script file and return sqlalchemy textual sql\n",
    "    \"\"\"\n",
    "    from sqlalchemy.sql import text\n",
    "    with open(script_path, 'r') as sql_file:\n",
    "        sql_query = sql_file.read()\n",
    "\n",
    "    return text(sql_query)"
   ]
  },
  {
   "cell_type": "markdown",
   "id": "b5d556d1-9234-4335-9f06-17146e3fd500",
   "metadata": {
    "tags": []
   },
   "source": [
    "#### Daily, Weekly and Monthly average number of trips per region"
   ]
  },
  {
   "cell_type": "code",
   "execution_count": 12,
   "id": "b4c6652e-8b4b-47bd-ba7c-677c37fc810a",
   "metadata": {},
   "outputs": [
    {
     "data": {
      "text/html": [
       "<div>\n",
       "<style scoped>\n",
       "    .dataframe tbody tr th:only-of-type {\n",
       "        vertical-align: middle;\n",
       "    }\n",
       "\n",
       "    .dataframe tbody tr th {\n",
       "        vertical-align: top;\n",
       "    }\n",
       "\n",
       "    .dataframe thead th {\n",
       "        text-align: right;\n",
       "    }\n",
       "</style>\n",
       "<table border=\"1\" class=\"dataframe\">\n",
       "  <thead>\n",
       "    <tr style=\"text-align: right;\">\n",
       "      <th></th>\n",
       "      <th>region</th>\n",
       "      <th>daily_avg</th>\n",
       "      <th>weekly_avg</th>\n",
       "      <th>monthly_avg</th>\n",
       "    </tr>\n",
       "  </thead>\n",
       "  <tbody>\n",
       "    <tr>\n",
       "      <th>0</th>\n",
       "      <td>Turin</td>\n",
       "      <td>1.727273</td>\n",
       "      <td>7.6</td>\n",
       "      <td>38.0</td>\n",
       "    </tr>\n",
       "    <tr>\n",
       "      <th>1</th>\n",
       "      <td>Hamburg</td>\n",
       "      <td>1.333333</td>\n",
       "      <td>5.6</td>\n",
       "      <td>28.0</td>\n",
       "    </tr>\n",
       "    <tr>\n",
       "      <th>2</th>\n",
       "      <td>Prague</td>\n",
       "      <td>1.619048</td>\n",
       "      <td>6.8</td>\n",
       "      <td>34.0</td>\n",
       "    </tr>\n",
       "  </tbody>\n",
       "</table>\n",
       "</div>"
      ],
      "text/plain": [
       "    region  daily_avg  weekly_avg  monthly_avg\n",
       "0    Turin   1.727273         7.6         38.0\n",
       "1  Hamburg   1.333333         5.6         28.0\n",
       "2   Prague   1.619048         6.8         34.0"
      ]
     },
     "execution_count": 12,
     "metadata": {},
     "output_type": "execute_result"
    }
   ],
   "source": [
    "sql = read_file('../scripts/avgs_by_region.sql')\n",
    "df = pd.read_sql_query(sql,con=engine)\n",
    "df"
   ]
  },
  {
   "cell_type": "markdown",
   "id": "ff57884f-8aa7-48a3-8dfd-b121d91365c1",
   "metadata": {
    "tags": []
   },
   "source": [
    "#### What regions has the \"cheap_mobile\" datasource appeared in?"
   ]
  },
  {
   "cell_type": "code",
   "execution_count": 13,
   "id": "3fb358fc-2a7f-4f3e-aca0-c75bfa04119f",
   "metadata": {},
   "outputs": [
    {
     "data": {
      "text/html": [
       "<div>\n",
       "<style scoped>\n",
       "    .dataframe tbody tr th:only-of-type {\n",
       "        vertical-align: middle;\n",
       "    }\n",
       "\n",
       "    .dataframe tbody tr th {\n",
       "        vertical-align: top;\n",
       "    }\n",
       "\n",
       "    .dataframe thead th {\n",
       "        text-align: right;\n",
       "    }\n",
       "</style>\n",
       "<table border=\"1\" class=\"dataframe\">\n",
       "  <thead>\n",
       "    <tr style=\"text-align: right;\">\n",
       "      <th></th>\n",
       "      <th>region</th>\n",
       "      <th>cheap_mobile_appearances</th>\n",
       "    </tr>\n",
       "  </thead>\n",
       "  <tbody>\n",
       "    <tr>\n",
       "      <th>0</th>\n",
       "      <td>Prague</td>\n",
       "      <td>13</td>\n",
       "    </tr>\n",
       "    <tr>\n",
       "      <th>1</th>\n",
       "      <td>Hamburg</td>\n",
       "      <td>10</td>\n",
       "    </tr>\n",
       "    <tr>\n",
       "      <th>2</th>\n",
       "      <td>Turin</td>\n",
       "      <td>10</td>\n",
       "    </tr>\n",
       "  </tbody>\n",
       "</table>\n",
       "</div>"
      ],
      "text/plain": [
       "    region  cheap_mobile_appearances\n",
       "0   Prague                        13\n",
       "1  Hamburg                        10\n",
       "2    Turin                        10"
      ]
     },
     "execution_count": 13,
     "metadata": {},
     "output_type": "execute_result"
    }
   ],
   "source": [
    "sql = read_file('../scripts/cheap_mobile_counts.sql')\n",
    "df = pd.read_sql_query(sql,con=engine)\n",
    "df"
   ]
  },
  {
   "cell_type": "markdown",
   "id": "cdbb0680-c6fb-4ba5-976b-d564537ea82d",
   "metadata": {},
   "source": [
    "#### From the two most commonly appearing regions, which is the latest datasource?"
   ]
  },
  {
   "cell_type": "code",
   "execution_count": 14,
   "id": "5854c12b-4930-40d9-bba6-d35ddca5372c",
   "metadata": {},
   "outputs": [
    {
     "data": {
      "text/html": [
       "<div>\n",
       "<style scoped>\n",
       "    .dataframe tbody tr th:only-of-type {\n",
       "        vertical-align: middle;\n",
       "    }\n",
       "\n",
       "    .dataframe tbody tr th {\n",
       "        vertical-align: top;\n",
       "    }\n",
       "\n",
       "    .dataframe thead th {\n",
       "        text-align: right;\n",
       "    }\n",
       "</style>\n",
       "<table border=\"1\" class=\"dataframe\">\n",
       "  <thead>\n",
       "    <tr style=\"text-align: right;\">\n",
       "      <th></th>\n",
       "      <th>region</th>\n",
       "      <th>latest_datasource</th>\n",
       "    </tr>\n",
       "  </thead>\n",
       "  <tbody>\n",
       "    <tr>\n",
       "      <th>0</th>\n",
       "      <td>Turin</td>\n",
       "      <td>pt_search_app</td>\n",
       "    </tr>\n",
       "    <tr>\n",
       "      <th>1</th>\n",
       "      <td>Prague</td>\n",
       "      <td>cheap_mobile</td>\n",
       "    </tr>\n",
       "  </tbody>\n",
       "</table>\n",
       "</div>"
      ],
      "text/plain": [
       "   region latest_datasource\n",
       "0   Turin     pt_search_app\n",
       "1  Prague      cheap_mobile"
      ]
     },
     "execution_count": 14,
     "metadata": {},
     "output_type": "execute_result"
    }
   ],
   "source": [
    "sql = read_file('../scripts/latest_datasources.sql')\n",
    "df = pd.read_sql_query(sql,con=engine)\n",
    "df"
   ]
  },
  {
   "cell_type": "code",
   "execution_count": null,
   "id": "46588812-9298-49bb-acb1-ed36e94b1bb0",
   "metadata": {},
   "outputs": [],
   "source": []
  }
 ],
 "metadata": {
  "kernelspec": {
   "display_name": "Python 3 (ipykernel)",
   "language": "python",
   "name": "python3"
  },
  "language_info": {
   "codemirror_mode": {
    "name": "ipython",
    "version": 3
   },
   "file_extension": ".py",
   "mimetype": "text/x-python",
   "name": "python",
   "nbconvert_exporter": "python",
   "pygments_lexer": "ipython3",
   "version": "3.10.4"
  }
 },
 "nbformat": 4,
 "nbformat_minor": 5
}
